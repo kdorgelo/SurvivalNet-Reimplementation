{
 "cells": [
  {
   "cell_type": "markdown",
   "source": [
    "## Setup"
   ],
   "metadata": {
    "id": "fvc3ukH5HtuM"
   }
  },
  {
   "cell_type": "code",
   "execution_count": 85,
   "source": [
    "import pandas as pd\n",
    "import numpy as np\n",
    "import scipy.io as sio\n",
    "from sklearn.model_selection import train_test_split\n",
    "from sklearn.linear_model import LogisticRegression\n",
    "from sklearn import metrics\n",
    "from sklearn.datasets import make_classification\n",
    "from sklearn.model_selection import cross_val_score\n",
    "from sklearn.svm import SVC\n",
    "from sklearn.datasets import make_classification\n",
    "from sklearn.preprocessing import MinMaxScaler\n",
    "from sklearn.model_selection import GridSearchCV\n",
    "import matplotlib.pyplot as plt\n",
    "from random_survival_forest import RandomSurvivalForest, concordance_index\n",
    "\n",
    "np.random.seed(1337)"
   ],
   "outputs": [],
   "metadata": {
    "id": "XVjpPUojG4V4"
   }
  },
  {
   "cell_type": "code",
   "execution_count": 86,
   "source": [
    "D = sio.loadmat('data.mat')\n",
    "#dict_keys(['__header__', '__version__', '__globals__', 'Censored', 'Integ_Symb_Types', 'Integ_Symbs', 'Integ_X', 'Integ_X_raw', 'Patients', 'Subtypes', 'Survival'])\n",
    "\n",
    "T = np.asarray([t[0] for t in D['Survival']]).astype('float32')\n",
    "O = 1 - np.asarray([c[0] for c in D['Censored']]).astype('int32')\n",
    "X = D['Integ_X_raw'].astype('float32') # not sure if this should be 'Integ_X_raw' or 'Integ_X'\n",
    "X_headers = list(D['Integ_Symbs'])\n",
    "\n",
    "df = pd.DataFrame(data=X, columns=X_headers)\n",
    "df['Survival'] = T\n",
    "df['Censored'] = O\n",
    "print(df.shape)\n",
    "df.head()"
   ],
   "outputs": [
    {
     "output_type": "stream",
     "name": "stdout",
     "text": [
      "(560, 401)\n"
     ]
    },
    {
     "output_type": "execute_result",
     "data": {
      "text/plain": [
       "   age_at_initial_pathologic_diagnosis_Clinical                   \\\n",
       "0                                               50.0               \n",
       "1                                               57.0               \n",
       "2                                               53.0               \n",
       "3                                               86.0               \n",
       "4                                               66.0               \n",
       "\n",
       "   gender-Is-male_Clinical                                        \\\n",
       "0                                                1.0               \n",
       "1                                                1.0               \n",
       "2                                                1.0               \n",
       "3                                                1.0               \n",
       "4                                                1.0               \n",
       "\n",
       "   histological_type-Is-oligoastrocytoma_Clinical                 \\\n",
       "0                                                0.0               \n",
       "1                                                0.0               \n",
       "2                                                0.0               \n",
       "3                                                0.0               \n",
       "4                                                0.0               \n",
       "\n",
       "   histological_type-Is-astrocytoma_Clinical                      \\\n",
       "0                                                0.0               \n",
       "1                                                0.0               \n",
       "2                                                0.0               \n",
       "3                                                0.0               \n",
       "4                                                0.0               \n",
       "\n",
       "   histological_type-Is-oligodendroglioma_Clinical                \\\n",
       "0                                                0.0               \n",
       "1                                                0.0               \n",
       "2                                                0.0               \n",
       "3                                                0.0               \n",
       "4                                                0.0               \n",
       "\n",
       "   histological_type-Is-glioblastoma multiforme (gbm)_Clinical    \\\n",
       "0                                                0.0               \n",
       "1                                                0.0               \n",
       "2                                                0.0               \n",
       "3                                                0.0               \n",
       "4                                                0.0               \n",
       "\n",
       "   histological_type-Is-treated primary gbm_Clinical              \\\n",
       "0                                                0.0               \n",
       "1                                                1.0               \n",
       "2                                                0.0               \n",
       "3                                                0.0               \n",
       "4                                                0.0               \n",
       "\n",
       "   histological_type-Is-untreated primary (de novo) gbm_Clinical  \\\n",
       "0                                                1.0               \n",
       "1                                                0.0               \n",
       "2                                                1.0               \n",
       "3                                                1.0               \n",
       "4                                                1.0               \n",
       "\n",
       "   radiation_therapy-Is-yes_Clinical                              \\\n",
       "0                                                1.0               \n",
       "1                                                1.0               \n",
       "2                                                1.0               \n",
       "3                                                1.0               \n",
       "4                                                1.0               \n",
       "\n",
       "   ACADS_Mut                                                      ...  \\\n",
       "0                                                0.0              ...   \n",
       "1                                                0.0              ...   \n",
       "2                                                0.0              ...   \n",
       "3                                                0.0              ...   \n",
       "4                                                0.0              ...   \n",
       "\n",
       "   CDKN1B_Protein                                                 \\\n",
       "0                                           0.161241               \n",
       "1                                           0.740407               \n",
       "2                                           0.049271               \n",
       "3                                          -0.126167               \n",
       "4                                           0.262911               \n",
       "\n",
       "   MAPK14_Protein                                                 \\\n",
       "0                                          -0.097997               \n",
       "1                                          -0.118854               \n",
       "2                                          -0.204173               \n",
       "3                                          -0.064162               \n",
       "4                                          -0.594671               \n",
       "\n",
       "   TP53_Protein                                                   \\\n",
       "0                                           0.108144               \n",
       "1                                           0.269457               \n",
       "2                                           0.426592               \n",
       "3                                          -0.223155               \n",
       "4                                           0.878369               \n",
       "\n",
       "   SQSTM1_Protein                                                 \\\n",
       "0                                           0.661336               \n",
       "1                                           0.116623               \n",
       "2                                          -0.379803               \n",
       "3                                          -0.188487               \n",
       "4                                           0.137746               \n",
       "\n",
       "   RPS6KB1_Protein                                                \\\n",
       "0                                          -0.111310               \n",
       "1                                          -0.573753               \n",
       "2                                          -0.158300               \n",
       "3                                           0.292586               \n",
       "4                                          -1.202437               \n",
       "\n",
       "   RPS6KB1_Protein                                                \\\n",
       "0                                           0.474086               \n",
       "1                                          -0.587442               \n",
       "2                                           0.100670               \n",
       "3                                          -0.044545               \n",
       "4                                           0.260542               \n",
       "\n",
       "   RPS6KA1_Protein                                                \\\n",
       "0                                           0.377963               \n",
       "1                                          -0.523980               \n",
       "2                                          -0.481545               \n",
       "3                                          -0.018513               \n",
       "4                                          -0.026632               \n",
       "\n",
       "   RPS6KA1_Protein                                                Survival  \\\n",
       "0                                           0.057217                 144.0   \n",
       "1                                           0.000000                 393.0   \n",
       "2                                           0.098332                 470.0   \n",
       "3                                           0.085689                 211.0   \n",
       "4                                           1.196287                 691.0   \n",
       "\n",
       "   Censored  \n",
       "0         1  \n",
       "1         1  \n",
       "2         0  \n",
       "3         1  \n",
       "4         1  \n",
       "\n",
       "[5 rows x 401 columns]"
      ],
      "text/html": [
       "<div>\n",
       "<style scoped>\n",
       "    .dataframe tbody tr th:only-of-type {\n",
       "        vertical-align: middle;\n",
       "    }\n",
       "\n",
       "    .dataframe tbody tr th {\n",
       "        vertical-align: top;\n",
       "    }\n",
       "\n",
       "    .dataframe thead th {\n",
       "        text-align: right;\n",
       "    }\n",
       "</style>\n",
       "<table border=\"1\" class=\"dataframe\">\n",
       "  <thead>\n",
       "    <tr style=\"text-align: right;\">\n",
       "      <th></th>\n",
       "      <th>age_at_initial_pathologic_diagnosis_Clinical</th>\n",
       "      <th>gender-Is-male_Clinical</th>\n",
       "      <th>histological_type-Is-oligoastrocytoma_Clinical</th>\n",
       "      <th>histological_type-Is-astrocytoma_Clinical</th>\n",
       "      <th>histological_type-Is-oligodendroglioma_Clinical</th>\n",
       "      <th>histological_type-Is-glioblastoma multiforme (gbm)_Clinical</th>\n",
       "      <th>histological_type-Is-treated primary gbm_Clinical</th>\n",
       "      <th>histological_type-Is-untreated primary (de novo) gbm_Clinical</th>\n",
       "      <th>radiation_therapy-Is-yes_Clinical</th>\n",
       "      <th>ACADS_Mut</th>\n",
       "      <th>...</th>\n",
       "      <th>CDKN1B_Protein</th>\n",
       "      <th>MAPK14_Protein</th>\n",
       "      <th>TP53_Protein</th>\n",
       "      <th>SQSTM1_Protein</th>\n",
       "      <th>RPS6KB1_Protein</th>\n",
       "      <th>RPS6KB1_Protein</th>\n",
       "      <th>RPS6KA1_Protein</th>\n",
       "      <th>RPS6KA1_Protein</th>\n",
       "      <th>Survival</th>\n",
       "      <th>Censored</th>\n",
       "    </tr>\n",
       "  </thead>\n",
       "  <tbody>\n",
       "    <tr>\n",
       "      <th>0</th>\n",
       "      <td>50.0</td>\n",
       "      <td>1.0</td>\n",
       "      <td>0.0</td>\n",
       "      <td>0.0</td>\n",
       "      <td>0.0</td>\n",
       "      <td>0.0</td>\n",
       "      <td>0.0</td>\n",
       "      <td>1.0</td>\n",
       "      <td>1.0</td>\n",
       "      <td>0.0</td>\n",
       "      <td>...</td>\n",
       "      <td>0.161241</td>\n",
       "      <td>-0.097997</td>\n",
       "      <td>0.108144</td>\n",
       "      <td>0.661336</td>\n",
       "      <td>-0.111310</td>\n",
       "      <td>0.474086</td>\n",
       "      <td>0.377963</td>\n",
       "      <td>0.057217</td>\n",
       "      <td>144.0</td>\n",
       "      <td>1</td>\n",
       "    </tr>\n",
       "    <tr>\n",
       "      <th>1</th>\n",
       "      <td>57.0</td>\n",
       "      <td>1.0</td>\n",
       "      <td>0.0</td>\n",
       "      <td>0.0</td>\n",
       "      <td>0.0</td>\n",
       "      <td>0.0</td>\n",
       "      <td>1.0</td>\n",
       "      <td>0.0</td>\n",
       "      <td>1.0</td>\n",
       "      <td>0.0</td>\n",
       "      <td>...</td>\n",
       "      <td>0.740407</td>\n",
       "      <td>-0.118854</td>\n",
       "      <td>0.269457</td>\n",
       "      <td>0.116623</td>\n",
       "      <td>-0.573753</td>\n",
       "      <td>-0.587442</td>\n",
       "      <td>-0.523980</td>\n",
       "      <td>0.000000</td>\n",
       "      <td>393.0</td>\n",
       "      <td>1</td>\n",
       "    </tr>\n",
       "    <tr>\n",
       "      <th>2</th>\n",
       "      <td>53.0</td>\n",
       "      <td>1.0</td>\n",
       "      <td>0.0</td>\n",
       "      <td>0.0</td>\n",
       "      <td>0.0</td>\n",
       "      <td>0.0</td>\n",
       "      <td>0.0</td>\n",
       "      <td>1.0</td>\n",
       "      <td>1.0</td>\n",
       "      <td>0.0</td>\n",
       "      <td>...</td>\n",
       "      <td>0.049271</td>\n",
       "      <td>-0.204173</td>\n",
       "      <td>0.426592</td>\n",
       "      <td>-0.379803</td>\n",
       "      <td>-0.158300</td>\n",
       "      <td>0.100670</td>\n",
       "      <td>-0.481545</td>\n",
       "      <td>0.098332</td>\n",
       "      <td>470.0</td>\n",
       "      <td>0</td>\n",
       "    </tr>\n",
       "    <tr>\n",
       "      <th>3</th>\n",
       "      <td>86.0</td>\n",
       "      <td>1.0</td>\n",
       "      <td>0.0</td>\n",
       "      <td>0.0</td>\n",
       "      <td>0.0</td>\n",
       "      <td>0.0</td>\n",
       "      <td>0.0</td>\n",
       "      <td>1.0</td>\n",
       "      <td>1.0</td>\n",
       "      <td>0.0</td>\n",
       "      <td>...</td>\n",
       "      <td>-0.126167</td>\n",
       "      <td>-0.064162</td>\n",
       "      <td>-0.223155</td>\n",
       "      <td>-0.188487</td>\n",
       "      <td>0.292586</td>\n",
       "      <td>-0.044545</td>\n",
       "      <td>-0.018513</td>\n",
       "      <td>0.085689</td>\n",
       "      <td>211.0</td>\n",
       "      <td>1</td>\n",
       "    </tr>\n",
       "    <tr>\n",
       "      <th>4</th>\n",
       "      <td>66.0</td>\n",
       "      <td>1.0</td>\n",
       "      <td>0.0</td>\n",
       "      <td>0.0</td>\n",
       "      <td>0.0</td>\n",
       "      <td>0.0</td>\n",
       "      <td>0.0</td>\n",
       "      <td>1.0</td>\n",
       "      <td>1.0</td>\n",
       "      <td>0.0</td>\n",
       "      <td>...</td>\n",
       "      <td>0.262911</td>\n",
       "      <td>-0.594671</td>\n",
       "      <td>0.878369</td>\n",
       "      <td>0.137746</td>\n",
       "      <td>-1.202437</td>\n",
       "      <td>0.260542</td>\n",
       "      <td>-0.026632</td>\n",
       "      <td>1.196287</td>\n",
       "      <td>691.0</td>\n",
       "      <td>1</td>\n",
       "    </tr>\n",
       "  </tbody>\n",
       "</table>\n",
       "<p>5 rows × 401 columns</p>\n",
       "</div>"
      ]
     },
     "metadata": {},
     "execution_count": 86
    }
   ],
   "metadata": {
    "colab": {
     "base_uri": "https://localhost:8080/",
     "height": 322
    },
    "id": "O2jxMrMYHeBI",
    "outputId": "76c69041-0f14-42d7-88b1-0f4ddf6b8ced"
   }
  },
  {
   "cell_type": "code",
   "execution_count": 87,
   "source": [
    "y = df.iloc[:,-2:]\n",
    "X = df.iloc[:,:-2]\n",
    "X_train,X_test,y_train,y_test=train_test_split(X,y,test_size=0.25,random_state=0)\n",
    "print(\"shape of X Train :\"+str(X_train.shape))\n",
    "print(\"shape of X Test :\"+str(X_test.shape))\n",
    "print(\"shape of Y Train :\"+str(y_train.shape))\n",
    "print(\"shape of Y Test :\"+str(y_test.shape))"
   ],
   "outputs": [
    {
     "output_type": "stream",
     "name": "stdout",
     "text": [
      "shape of X Train :(420, 399)\n",
      "shape of X Test :(140, 399)\n",
      "shape of Y Train :(420, 2)\n",
      "shape of Y Test :(140, 2)\n"
     ]
    }
   ],
   "metadata": {
    "colab": {
     "base_uri": "https://localhost:8080/"
    },
    "id": "xZiUZbgVG4V5",
    "outputId": "37ef39ce-dfa0-410a-c603-77fa3f1ee664"
   }
  },
  {
   "cell_type": "markdown",
   "source": [
    "## Establish a baseline using Logistic Regression\n"
   ],
   "metadata": {
    "id": "9AnpyVgCHkQ1"
   }
  },
  {
   "cell_type": "code",
   "execution_count": 117,
   "source": [
    "#logistic Regression\n",
    "\n",
    "#logistic Regression\n",
    "y = df[[\"Survival\", \"Censored\"]]\n",
    "#y = df[[\"Survival\"]]\n",
    "y[\"Survival\"] = y[\"Survival\"].values.astype(int)\n",
    "X = df.drop(columns=[\"Survival\", \"Censored\"])\n",
    "X_train,X_test,y_train,y_test=train_test_split(X,y,test_size=0.25,random_state=0)\n",
    "\n",
    "logreg = LogisticRegression()\n",
    "logreg.fit(X_train, y_train[\"Survival\"])\n",
    "y_pred=logreg.predict(X_test)\n",
    "#cnf_matrix = metrics.confusion_matrix(y_test[\"Survival\"], y_pred[\"Censored\"])\n",
    "\n",
    "\n",
    "#c_index = concordance_index(logreg, y_test, y_pred)\n",
    "#print('C-index: {:.2f}'.format(c_index))\n",
    "#print(\"Accuracy:\",metrics.accuracy_score(y_test, y_pred))\n",
    "#print(\"Precision:\",metrics.precision_score(y_test, y_pred))\n",
    "#print(\"Recall:\",metrics.recall_score(y_test, y_pred))\n",
    "c_val = concordance_index(y_time=y_test[\"Survival\"], y_pred=y_pred, y_event=y_test[\"Censored\"])\n",
    "print('C-index: {:.2f}'.format(c_val))\n"
   ],
   "outputs": [
    {
     "output_type": "stream",
     "name": "stderr",
     "text": [
      "/Library/Frameworks/Python.framework/Versions/3.7/lib/python3.7/site-packages/ipykernel_launcher.py:6: SettingWithCopyWarning: \n",
      "A value is trying to be set on a copy of a slice from a DataFrame.\n",
      "Try using .loc[row_indexer,col_indexer] = value instead\n",
      "\n",
      "See the caveats in the documentation: https://pandas.pydata.org/pandas-docs/stable/user_guide/indexing.html#returning-a-view-versus-a-copy\n",
      "  \n",
      "/Library/Frameworks/Python.framework/Versions/3.7/lib/python3.7/site-packages/sklearn/linear_model/_logistic.py:764: ConvergenceWarning: lbfgs failed to converge (status=1):\n",
      "STOP: TOTAL NO. of ITERATIONS REACHED LIMIT.\n",
      "\n",
      "Increase the number of iterations (max_iter) or scale the data as shown in:\n",
      "    https://scikit-learn.org/stable/modules/preprocessing.html\n",
      "Please also refer to the documentation for alternative solver options:\n",
      "    https://scikit-learn.org/stable/modules/linear_model.html#logistic-regression\n",
      "  extra_warning_msg=_LOGISTIC_SOLVER_CONVERGENCE_MSG)\n"
     ]
    },
    {
     "output_type": "stream",
     "name": "stdout",
     "text": [
      "C-index: 0.38\n"
     ]
    }
   ],
   "metadata": {
    "id": "hTEJ2v82G4V6"
   }
  },
  {
   "cell_type": "markdown",
   "source": [
    "## Establish a baseline using Support Vector Machine (SVM)"
   ],
   "metadata": {
    "id": "oD3ixyq1H2Su"
   }
  },
  {
   "cell_type": "code",
   "execution_count": null,
   "source": [
    "!pip install pysurvival"
   ],
   "outputs": [],
   "metadata": {
    "colab": {
     "base_uri": "https://localhost:8080/"
    },
    "id": "haLUsuQ2F6_v",
    "outputId": "cbb30e6f-d25a-4c74-9881-ae332f23b085"
   }
  },
  {
   "cell_type": "code",
   "execution_count": null,
   "source": [
    "from pysurvival.models.svm import LinearSVMModel\n",
    "from pysurvival.models.simulations import SimulationModel\n",
    "from pysurvival.utils.metrics import concordance_index\n",
    "from scipy.stats.stats import pearsonr"
   ],
   "outputs": [],
   "metadata": {
    "id": "ZFYLjPO-F2HR"
   }
  },
  {
   "cell_type": "code",
   "execution_count": null,
   "source": [
    "svm_model = LinearSVMModel()\n",
    "svm_model.fit(X=X_train, T=y_train[\"Survival\"], E=y_train[\"Censored\"], init_method='he_normal', lr = 0.5,  \n",
    "              tol = 1e-3,  l2_reg = 1e-3, verbose = False)\n"
   ],
   "outputs": [],
   "metadata": {
    "colab": {
     "base_uri": "https://localhost:8080/"
    },
    "id": "vFyLJlmGG4UW",
    "outputId": "50412e60-c998-4a09-88d9-f671260c86c9"
   }
  },
  {
   "cell_type": "code",
   "execution_count": null,
   "source": [
    "c_index = concordance_index(svm_model, X=X_test, T=y_test[\"Survival\"], E=y_test[\"Censored\"])\n",
    "print('C-index: {:.2f}'.format(c_index))"
   ],
   "outputs": [],
   "metadata": {
    "colab": {
     "base_uri": "https://localhost:8080/"
    },
    "id": "BU3shnH7G4sd",
    "outputId": "f9d5015b-95e2-4e70-cc8d-f4e49c943c3d"
   }
  },
  {
   "cell_type": "markdown",
   "source": [
    "## Establish a baseline using Random Survival Forest (RSF)"
   ],
   "metadata": {
    "id": "8D0LjDWJCA4i"
   }
  },
  {
   "cell_type": "code",
   "execution_count": null,
   "source": [
    "from random_survival_forest import RandomSurvivalForest, concordance_index\n",
    "\n",
    "y = df[[\"Survival\", \"Censored\"]]\n",
    "y[\"Survival\"] = y[\"Survival\"].values.astype(int)\n",
    "X = df.drop(columns=[\"Survival\", \"Censored\"])\n",
    "X_train,X_test,y_train,y_test=train_test_split(X,y,test_size=0.25,random_state=0)\n",
    "\n",
    "\n",
    "rsf = RandomSurvivalForest(n_estimators=10)\n",
    "rsf = rsf.fit(X_train, y_train)\n",
    "y_pred = rsf.predict(X_test)\n",
    "c_val = concordance_index(y_time=y_test[\"Survival\"], y_pred=y_pred, y_event=y_test[\"Censored\"])"
   ],
   "outputs": [],
   "metadata": {
    "colab": {
     "base_uri": "https://localhost:8080/",
     "height": 381
    },
    "id": "AOQyuf9oCA4i",
    "outputId": "99abe09f-e781-43c3-9955-e376e55b4dda"
   }
  },
  {
   "cell_type": "code",
   "execution_count": null,
   "source": [
    "print(\"C-index\", round(c_val, 3))"
   ],
   "outputs": [],
   "metadata": {
    "id": "pdGl3KPLCA4i",
    "outputId": "c3a52c59-3464-42a2-ba8e-d8f9c08368f5"
   }
  },
  {
   "cell_type": "markdown",
   "source": [
    "## Neural Network SurvivalNet Reimplementation"
   ],
   "metadata": {
    "id": "k2PTFqT9RPoL"
   }
  },
  {
   "cell_type": "code",
   "execution_count": 88,
   "source": [
    "import keras\n",
    "from keras import layers\n",
    "import tensorflow as tf\n",
    "from keras.models import Sequential\n",
    "from keras.layers import Dense, Activation"
   ],
   "outputs": [],
   "metadata": {
    "id": "df9UpKJPRZ9m"
   }
  },
  {
   "cell_type": "code",
   "execution_count": 109,
   "source": [
    "class partial_log_likelihood(keras.losses.Loss):\n",
    "    def __init__(self, name=\"partial_log_likelihood\"):\n",
    "        super().__init__(name=name)\n",
    "    def call(self, y_true, y_pred):\n",
    "        censored = y_true[:,1]\n",
    "        y_true = y_true[:,0]\n",
    "        y_pred = tf.reshape(y_pred, [-1])\n",
    "        sorted_survival, sorted_indices = tf.math.top_k(y_true, len(y_true), True) \n",
    "        sorted_censored = keras.backend.gather(censored, sorted_indices)\n",
    "        sorted_preds = keras.backend.gather(y_pred, sorted_indices)\n",
    "        exp = keras.backend.exp(sorted_preds)\n",
    "        sums = keras.backend.cumsum(exp) + tf.convert_to_tensor(1.0)\n",
    "        logsums = keras.backend.log(sums)\n",
    "        \n",
    "        return keras.backend.sum(sorted_censored * sorted_preds - sorted_censored*logsums) * -1"
   ],
   "outputs": [],
   "metadata": {}
  },
  {
   "cell_type": "code",
   "execution_count": 110,
   "source": [
    "model = Sequential()\n",
    "model.add(Dense(128, activation='relu', input_dim=len(X_train.columns)))\n",
    "model.add(Dense(128,activation='relu'))\n",
    "model.add(Dense(128,activation='relu'))\n",
    "model.add(Dense(1))"
   ],
   "outputs": [],
   "metadata": {}
  },
  {
   "cell_type": "code",
   "execution_count": 116,
   "source": [
    "y_train.loc[:,\"Censored\"] = np.array(y_train.loc[:,\"Censored\"].values).astype(np.float32)\n",
    "model.compile(optimizer=keras.optimizers.Adam(),loss=partial_log_likelihood())\n",
    "model.fit(X_train, y_train.values,batch_size=32, epochs=10)"
   ],
   "outputs": [
    {
     "output_type": "stream",
     "name": "stderr",
     "text": [
      "/home/jjcc/.cache/pypoetry/virtualenvs/survivalnet-reimplementation-nhtVa1r6-py3.8/lib/python3.8/site-packages/pandas/core/indexing.py:1951: SettingWithCopyWarning: \n",
      "A value is trying to be set on a copy of a slice from a DataFrame.\n",
      "Try using .loc[row_indexer,col_indexer] = value instead\n",
      "\n",
      "See the caveats in the documentation: https://pandas.pydata.org/pandas-docs/stable/user_guide/indexing.html#returning-a-view-versus-a-copy\n",
      "  self.obj[selected_item_labels] = value\n"
     ]
    },
    {
     "output_type": "execute_result",
     "data": {
      "text/plain": [
       "<keras.callbacks.History at 0x7f1918330df0>"
      ]
     },
     "metadata": {},
     "execution_count": 116
    }
   ],
   "metadata": {
    "scrolled": true
   }
  },
  {
   "cell_type": "code",
   "execution_count": 118,
   "source": [
    "concordance_index(y_time=y_test[\"Survival\"], y_pred=model.predict(X_test), y_event=y_test[\"Censored\"])"
   ],
   "outputs": [
    {
     "output_type": "execute_result",
     "data": {
      "text/plain": [
       "0.8667285095856524"
      ]
     },
     "metadata": {},
     "execution_count": 118
    }
   ],
   "metadata": {}
  }
 ],
 "metadata": {
  "colab": {
   "name": "Training.ipynb",
   "provenance": []
  },
  "interpreter": {
   "hash": "23ef4ed9cc7a31b96e3c893bef735bf01838de5c478fa951d1ade0827009e44d"
  },
  "kernelspec": {
   "display_name": "Python 3",
   "language": "python",
   "name": "python3"
  },
  "language_info": {
   "codemirror_mode": {
    "name": "ipython",
    "version": 3
   },
   "file_extension": ".py",
   "mimetype": "text/x-python",
   "name": "python",
   "nbconvert_exporter": "python",
   "pygments_lexer": "ipython3",
   "version": "3.7.2"
  }
 },
 "nbformat": 4,
 "nbformat_minor": 2
}