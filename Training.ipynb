{
  "nbformat": 4,
  "nbformat_minor": 2,
  "metadata": {
    "colab": {
      "name": "Training.ipynb",
      "provenance": []
    },
    "interpreter": {
      "hash": "23ef4ed9cc7a31b96e3c893bef735bf01838de5c478fa951d1ade0827009e44d"
    },
    "kernelspec": {
      "name": "python3",
      "display_name": "Python 3.8.5 64-bit ('survivalnet-reimplementation-nhtVa1r6-py3.8': poetry)"
    },
    "language_info": {
      "name": "python",
      "version": "3.8.10",
      "mimetype": "text/x-python",
      "codemirror_mode": {
        "name": "ipython",
        "version": 3
      },
      "pygments_lexer": "ipython3",
      "nbconvert_exporter": "python",
      "file_extension": ".py"
    }
  },
  "cells": [
    {
      "cell_type": "markdown",
      "source": [
        "## Setup"
      ],
      "metadata": {
        "id": "fvc3ukH5HtuM"
      }
    },
    {
      "cell_type": "code",
      "execution_count": 4,
      "source": [
        "# Uncomment if you need to install \n",
        "# !pip install random_survival_forest"
      ],
      "outputs": [],
      "metadata": {
        "id": "zzaSaPZwxeaO"
      }
    },
    {
      "cell_type": "code",
      "execution_count": 2,
      "source": [
        "import pandas as pd\n",
        "import numpy as np\n",
        "import scipy.io as sio\n",
        "from sklearn.model_selection import train_test_split\n",
        "from sklearn.linear_model import LogisticRegression\n",
        "from sklearn import metrics\n",
        "import matplotlib.pyplot as plt\n",
        "from random_survival_forest import RandomSurvivalForest, concordance_index\n",
        "\n",
        "np.random.seed(1337)"
      ],
      "outputs": [],
      "metadata": {
        "id": "XVjpPUojG4V4"
      }
    },
    {
      "cell_type": "code",
      "execution_count": 3,
      "source": [
        "D = sio.loadmat('data.mat')\n",
        "#dict_keys(['__header__', '__version__', '__globals__', 'Censored', 'Integ_Symb_Types', 'Integ_Symbs', 'Integ_X', 'Integ_X_raw', 'Patients', 'Subtypes', 'Survival'])\n",
        "\n",
        "T = np.asarray([t[0] for t in D['Survival']]).astype('float32')\n",
        "O = 1 - np.asarray([c[0] for c in D['Censored']]).astype('int32')\n",
        "X = D['Integ_X_raw'].astype('float32')\n",
        "X_headers = list(D['Integ_Symbs'])\n",
        "\n",
        "df = pd.DataFrame(data=X, columns=X_headers)\n",
        "df['Survival'] = T\n",
        "df['Censored'] = O\n",
        "print(df.shape)\n",
        "df.head()"
      ],
      "outputs": [
        {
          "output_type": "stream",
          "name": "stdout",
          "text": [
            "(560, 401)\n"
          ]
        },
        {
          "output_type": "execute_result",
          "data": {
            "text/plain": [
              "   age_at_initial_pathologic_diagnosis_Clinical                   ...  Censored\n",
              "0                                               50.0              ...         1\n",
              "1                                               57.0              ...         1\n",
              "2                                               53.0              ...         0\n",
              "3                                               86.0              ...         1\n",
              "4                                               66.0              ...         1\n",
              "\n",
              "[5 rows x 401 columns]"
            ],
            "text/html": [
              "<div>\n",
              "<style scoped>\n",
              "    .dataframe tbody tr th:only-of-type {\n",
              "        vertical-align: middle;\n",
              "    }\n",
              "\n",
              "    .dataframe tbody tr th {\n",
              "        vertical-align: top;\n",
              "    }\n",
              "\n",
              "    .dataframe thead th {\n",
              "        text-align: right;\n",
              "    }\n",
              "</style>\n",
              "<table border=\"1\" class=\"dataframe\">\n",
              "  <thead>\n",
              "    <tr style=\"text-align: right;\">\n",
              "      <th></th>\n",
              "      <th>age_at_initial_pathologic_diagnosis_Clinical</th>\n",
              "      <th>gender-Is-male_Clinical</th>\n",
              "      <th>histological_type-Is-oligoastrocytoma_Clinical</th>\n",
              "      <th>histological_type-Is-astrocytoma_Clinical</th>\n",
              "      <th>histological_type-Is-oligodendroglioma_Clinical</th>\n",
              "      <th>histological_type-Is-glioblastoma multiforme (gbm)_Clinical</th>\n",
              "      <th>histological_type-Is-treated primary gbm_Clinical</th>\n",
              "      <th>histological_type-Is-untreated primary (de novo) gbm_Clinical</th>\n",
              "      <th>radiation_therapy-Is-yes_Clinical</th>\n",
              "      <th>ACADS_Mut</th>\n",
              "      <th>AOX1_Mut</th>\n",
              "      <th>ARID1A_Mut</th>\n",
              "      <th>ARID2_Mut</th>\n",
              "      <th>ATF7IP2_Mut</th>\n",
              "      <th>ATRX_Mut</th>\n",
              "      <th>BCOR_Mut</th>\n",
              "      <th>BRAF_Mut</th>\n",
              "      <th>C10orf76_Mut</th>\n",
              "      <th>CD1D_Mut</th>\n",
              "      <th>CD209_Mut</th>\n",
              "      <th>CD44_Mut</th>\n",
              "      <th>CDKN2A_Mut</th>\n",
              "      <th>CIC_Mut</th>\n",
              "      <th>CMA1_Mut</th>\n",
              "      <th>CNOT1_Mut</th>\n",
              "      <th>CPEB4_Mut</th>\n",
              "      <th>CREBZF_Mut</th>\n",
              "      <th>CYP11A1_Mut</th>\n",
              "      <th>DDX5_Mut</th>\n",
              "      <th>DLC1_Mut</th>\n",
              "      <th>DLX6_Mut</th>\n",
              "      <th>DNMT3A_Mut</th>\n",
              "      <th>DOCK5_Mut</th>\n",
              "      <th>EEF1A1_Mut</th>\n",
              "      <th>EGFR_Mut</th>\n",
              "      <th>EMG1_Mut</th>\n",
              "      <th>EPS8L1_Mut</th>\n",
              "      <th>ESR2_Mut</th>\n",
              "      <th>FAM123C_Mut</th>\n",
              "      <th>FAM126B_Mut</th>\n",
              "      <th>...</th>\n",
              "      <th>STMN1_Protein</th>\n",
              "      <th>SYK_Protein</th>\n",
              "      <th>WWTR1_Protein</th>\n",
              "      <th>TFRC_Protein</th>\n",
              "      <th>TIGAR_Protein</th>\n",
              "      <th>TSC1_Protein</th>\n",
              "      <th>TGM2_Protein</th>\n",
              "      <th>TSC2_Protein</th>\n",
              "      <th>TSC2_Protein</th>\n",
              "      <th>KDR_Protein</th>\n",
              "      <th>XRCC1_Protein</th>\n",
              "      <th>YAP1_Protein</th>\n",
              "      <th>YAP1_Protein</th>\n",
              "      <th>YBX1_Protein</th>\n",
              "      <th>YBX1_Protein</th>\n",
              "      <th>CTNNB1_Protein</th>\n",
              "      <th>JUN_Protein</th>\n",
              "      <th>KIT_Protein</th>\n",
              "      <th>MET_Protein</th>\n",
              "      <th>MYC_Protein</th>\n",
              "      <th>BIRC2_Protein</th>\n",
              "      <th>EEF2_Protein</th>\n",
              "      <th>EEF2K_Protein</th>\n",
              "      <th>EIF4E_Protein</th>\n",
              "      <th>EIF4G1_Protein</th>\n",
              "      <th>MTOR_Protein</th>\n",
              "      <th>MTOR_Protein</th>\n",
              "      <th>CDKN1A_Protein</th>\n",
              "      <th>CDKN1B_Protein</th>\n",
              "      <th>CDKN1B_Protein</th>\n",
              "      <th>CDKN1B_Protein</th>\n",
              "      <th>MAPK14_Protein</th>\n",
              "      <th>TP53_Protein</th>\n",
              "      <th>SQSTM1_Protein</th>\n",
              "      <th>RPS6KB1_Protein</th>\n",
              "      <th>RPS6KB1_Protein</th>\n",
              "      <th>RPS6KA1_Protein</th>\n",
              "      <th>RPS6KA1_Protein</th>\n",
              "      <th>Survival</th>\n",
              "      <th>Censored</th>\n",
              "    </tr>\n",
              "  </thead>\n",
              "  <tbody>\n",
              "    <tr>\n",
              "      <th>0</th>\n",
              "      <td>50.0</td>\n",
              "      <td>1.0</td>\n",
              "      <td>0.0</td>\n",
              "      <td>0.0</td>\n",
              "      <td>0.0</td>\n",
              "      <td>0.0</td>\n",
              "      <td>0.0</td>\n",
              "      <td>1.0</td>\n",
              "      <td>1.0</td>\n",
              "      <td>0.0</td>\n",
              "      <td>0.0</td>\n",
              "      <td>0.0</td>\n",
              "      <td>0.0</td>\n",
              "      <td>0.0</td>\n",
              "      <td>0.0</td>\n",
              "      <td>0.0</td>\n",
              "      <td>0.0</td>\n",
              "      <td>0.0</td>\n",
              "      <td>0.0</td>\n",
              "      <td>0.0</td>\n",
              "      <td>0.0</td>\n",
              "      <td>0.0</td>\n",
              "      <td>0.0</td>\n",
              "      <td>0.0</td>\n",
              "      <td>0.0</td>\n",
              "      <td>0.0</td>\n",
              "      <td>0.0</td>\n",
              "      <td>0.0</td>\n",
              "      <td>0.0</td>\n",
              "      <td>0.0</td>\n",
              "      <td>0.0</td>\n",
              "      <td>0.0</td>\n",
              "      <td>0.0</td>\n",
              "      <td>0.0</td>\n",
              "      <td>1.0</td>\n",
              "      <td>0.0</td>\n",
              "      <td>0.0</td>\n",
              "      <td>0.0</td>\n",
              "      <td>0.0</td>\n",
              "      <td>0.0</td>\n",
              "      <td>...</td>\n",
              "      <td>0.231969</td>\n",
              "      <td>1.236948</td>\n",
              "      <td>0.568017</td>\n",
              "      <td>-0.189747</td>\n",
              "      <td>0.101076</td>\n",
              "      <td>-0.207325</td>\n",
              "      <td>0.303399</td>\n",
              "      <td>-0.144826</td>\n",
              "      <td>-0.364267</td>\n",
              "      <td>0.592570</td>\n",
              "      <td>-0.016465</td>\n",
              "      <td>0.223397</td>\n",
              "      <td>-0.554451</td>\n",
              "      <td>-0.646095</td>\n",
              "      <td>-0.177982</td>\n",
              "      <td>-1.286851</td>\n",
              "      <td>-0.101540</td>\n",
              "      <td>-0.783198</td>\n",
              "      <td>0.353918</td>\n",
              "      <td>0.215715</td>\n",
              "      <td>-0.201761</td>\n",
              "      <td>-0.108027</td>\n",
              "      <td>-0.336988</td>\n",
              "      <td>-0.107154</td>\n",
              "      <td>-0.516484</td>\n",
              "      <td>-0.394360</td>\n",
              "      <td>0.166735</td>\n",
              "      <td>0.418603</td>\n",
              "      <td>-0.032919</td>\n",
              "      <td>0.215703</td>\n",
              "      <td>0.161241</td>\n",
              "      <td>-0.097997</td>\n",
              "      <td>0.108144</td>\n",
              "      <td>0.661336</td>\n",
              "      <td>-0.111310</td>\n",
              "      <td>0.474086</td>\n",
              "      <td>0.377963</td>\n",
              "      <td>0.057217</td>\n",
              "      <td>144.0</td>\n",
              "      <td>1</td>\n",
              "    </tr>\n",
              "    <tr>\n",
              "      <th>1</th>\n",
              "      <td>57.0</td>\n",
              "      <td>1.0</td>\n",
              "      <td>0.0</td>\n",
              "      <td>0.0</td>\n",
              "      <td>0.0</td>\n",
              "      <td>0.0</td>\n",
              "      <td>1.0</td>\n",
              "      <td>0.0</td>\n",
              "      <td>1.0</td>\n",
              "      <td>0.0</td>\n",
              "      <td>0.0</td>\n",
              "      <td>0.0</td>\n",
              "      <td>0.0</td>\n",
              "      <td>0.0</td>\n",
              "      <td>0.0</td>\n",
              "      <td>0.0</td>\n",
              "      <td>0.0</td>\n",
              "      <td>0.0</td>\n",
              "      <td>0.0</td>\n",
              "      <td>0.0</td>\n",
              "      <td>0.0</td>\n",
              "      <td>0.0</td>\n",
              "      <td>0.0</td>\n",
              "      <td>0.0</td>\n",
              "      <td>0.0</td>\n",
              "      <td>0.0</td>\n",
              "      <td>0.0</td>\n",
              "      <td>0.0</td>\n",
              "      <td>0.0</td>\n",
              "      <td>0.0</td>\n",
              "      <td>0.0</td>\n",
              "      <td>0.0</td>\n",
              "      <td>0.0</td>\n",
              "      <td>0.0</td>\n",
              "      <td>0.0</td>\n",
              "      <td>0.0</td>\n",
              "      <td>0.0</td>\n",
              "      <td>0.0</td>\n",
              "      <td>0.0</td>\n",
              "      <td>0.0</td>\n",
              "      <td>...</td>\n",
              "      <td>1.057435</td>\n",
              "      <td>-1.398708</td>\n",
              "      <td>0.602139</td>\n",
              "      <td>-1.620308</td>\n",
              "      <td>-0.214998</td>\n",
              "      <td>-1.117199</td>\n",
              "      <td>0.626779</td>\n",
              "      <td>-1.945139</td>\n",
              "      <td>-1.310087</td>\n",
              "      <td>-0.860510</td>\n",
              "      <td>0.242296</td>\n",
              "      <td>1.593988</td>\n",
              "      <td>1.362545</td>\n",
              "      <td>-0.001860</td>\n",
              "      <td>-0.162358</td>\n",
              "      <td>-0.712493</td>\n",
              "      <td>0.069898</td>\n",
              "      <td>1.087936</td>\n",
              "      <td>0.449773</td>\n",
              "      <td>0.276249</td>\n",
              "      <td>-0.192023</td>\n",
              "      <td>-0.661946</td>\n",
              "      <td>-0.711138</td>\n",
              "      <td>-0.244208</td>\n",
              "      <td>-0.965930</td>\n",
              "      <td>-2.255737</td>\n",
              "      <td>-0.747773</td>\n",
              "      <td>0.698555</td>\n",
              "      <td>0.593962</td>\n",
              "      <td>0.397792</td>\n",
              "      <td>0.740407</td>\n",
              "      <td>-0.118854</td>\n",
              "      <td>0.269457</td>\n",
              "      <td>0.116623</td>\n",
              "      <td>-0.573753</td>\n",
              "      <td>-0.587442</td>\n",
              "      <td>-0.523980</td>\n",
              "      <td>0.000000</td>\n",
              "      <td>393.0</td>\n",
              "      <td>1</td>\n",
              "    </tr>\n",
              "    <tr>\n",
              "      <th>2</th>\n",
              "      <td>53.0</td>\n",
              "      <td>1.0</td>\n",
              "      <td>0.0</td>\n",
              "      <td>0.0</td>\n",
              "      <td>0.0</td>\n",
              "      <td>0.0</td>\n",
              "      <td>0.0</td>\n",
              "      <td>1.0</td>\n",
              "      <td>1.0</td>\n",
              "      <td>0.0</td>\n",
              "      <td>0.0</td>\n",
              "      <td>0.0</td>\n",
              "      <td>0.0</td>\n",
              "      <td>0.0</td>\n",
              "      <td>0.0</td>\n",
              "      <td>0.0</td>\n",
              "      <td>0.0</td>\n",
              "      <td>0.0</td>\n",
              "      <td>0.0</td>\n",
              "      <td>0.0</td>\n",
              "      <td>0.0</td>\n",
              "      <td>0.0</td>\n",
              "      <td>0.0</td>\n",
              "      <td>0.0</td>\n",
              "      <td>0.0</td>\n",
              "      <td>0.0</td>\n",
              "      <td>0.0</td>\n",
              "      <td>0.0</td>\n",
              "      <td>0.0</td>\n",
              "      <td>0.0</td>\n",
              "      <td>0.0</td>\n",
              "      <td>0.0</td>\n",
              "      <td>0.0</td>\n",
              "      <td>0.0</td>\n",
              "      <td>1.0</td>\n",
              "      <td>0.0</td>\n",
              "      <td>0.0</td>\n",
              "      <td>0.0</td>\n",
              "      <td>0.0</td>\n",
              "      <td>0.0</td>\n",
              "      <td>...</td>\n",
              "      <td>0.065149</td>\n",
              "      <td>-0.409672</td>\n",
              "      <td>-0.089685</td>\n",
              "      <td>-0.159985</td>\n",
              "      <td>-0.311739</td>\n",
              "      <td>-0.143713</td>\n",
              "      <td>0.053068</td>\n",
              "      <td>-0.467774</td>\n",
              "      <td>-0.029763</td>\n",
              "      <td>-0.434648</td>\n",
              "      <td>0.193044</td>\n",
              "      <td>0.277397</td>\n",
              "      <td>-0.184019</td>\n",
              "      <td>-0.521961</td>\n",
              "      <td>0.031076</td>\n",
              "      <td>-0.027812</td>\n",
              "      <td>0.255605</td>\n",
              "      <td>4.742699</td>\n",
              "      <td>-0.199033</td>\n",
              "      <td>-0.318494</td>\n",
              "      <td>0.015981</td>\n",
              "      <td>-0.150997</td>\n",
              "      <td>-0.693784</td>\n",
              "      <td>-0.001438</td>\n",
              "      <td>-0.262349</td>\n",
              "      <td>-0.207268</td>\n",
              "      <td>0.036444</td>\n",
              "      <td>-0.278100</td>\n",
              "      <td>0.175505</td>\n",
              "      <td>-0.118972</td>\n",
              "      <td>0.049271</td>\n",
              "      <td>-0.204173</td>\n",
              "      <td>0.426592</td>\n",
              "      <td>-0.379803</td>\n",
              "      <td>-0.158300</td>\n",
              "      <td>0.100670</td>\n",
              "      <td>-0.481545</td>\n",
              "      <td>0.098332</td>\n",
              "      <td>470.0</td>\n",
              "      <td>0</td>\n",
              "    </tr>\n",
              "    <tr>\n",
              "      <th>3</th>\n",
              "      <td>86.0</td>\n",
              "      <td>1.0</td>\n",
              "      <td>0.0</td>\n",
              "      <td>0.0</td>\n",
              "      <td>0.0</td>\n",
              "      <td>0.0</td>\n",
              "      <td>0.0</td>\n",
              "      <td>1.0</td>\n",
              "      <td>1.0</td>\n",
              "      <td>0.0</td>\n",
              "      <td>0.0</td>\n",
              "      <td>0.0</td>\n",
              "      <td>0.0</td>\n",
              "      <td>0.0</td>\n",
              "      <td>0.0</td>\n",
              "      <td>0.0</td>\n",
              "      <td>0.0</td>\n",
              "      <td>0.0</td>\n",
              "      <td>0.0</td>\n",
              "      <td>0.0</td>\n",
              "      <td>0.0</td>\n",
              "      <td>0.0</td>\n",
              "      <td>0.0</td>\n",
              "      <td>0.0</td>\n",
              "      <td>0.0</td>\n",
              "      <td>0.0</td>\n",
              "      <td>0.0</td>\n",
              "      <td>0.0</td>\n",
              "      <td>0.0</td>\n",
              "      <td>0.0</td>\n",
              "      <td>0.0</td>\n",
              "      <td>0.0</td>\n",
              "      <td>0.0</td>\n",
              "      <td>0.0</td>\n",
              "      <td>0.0</td>\n",
              "      <td>0.0</td>\n",
              "      <td>0.0</td>\n",
              "      <td>0.0</td>\n",
              "      <td>0.0</td>\n",
              "      <td>0.0</td>\n",
              "      <td>...</td>\n",
              "      <td>-0.320259</td>\n",
              "      <td>-0.116542</td>\n",
              "      <td>-0.122051</td>\n",
              "      <td>0.260292</td>\n",
              "      <td>-0.082233</td>\n",
              "      <td>0.054077</td>\n",
              "      <td>-0.023269</td>\n",
              "      <td>0.651192</td>\n",
              "      <td>0.698792</td>\n",
              "      <td>0.075816</td>\n",
              "      <td>-0.050477</td>\n",
              "      <td>-0.147755</td>\n",
              "      <td>-0.376620</td>\n",
              "      <td>0.175936</td>\n",
              "      <td>0.324163</td>\n",
              "      <td>0.781109</td>\n",
              "      <td>0.187001</td>\n",
              "      <td>-0.063293</td>\n",
              "      <td>-0.114954</td>\n",
              "      <td>-0.110859</td>\n",
              "      <td>-0.054756</td>\n",
              "      <td>-0.173451</td>\n",
              "      <td>0.271884</td>\n",
              "      <td>-0.063351</td>\n",
              "      <td>0.187555</td>\n",
              "      <td>0.386391</td>\n",
              "      <td>0.340228</td>\n",
              "      <td>0.131084</td>\n",
              "      <td>-0.213529</td>\n",
              "      <td>-0.158576</td>\n",
              "      <td>-0.126167</td>\n",
              "      <td>-0.064162</td>\n",
              "      <td>-0.223155</td>\n",
              "      <td>-0.188487</td>\n",
              "      <td>0.292586</td>\n",
              "      <td>-0.044545</td>\n",
              "      <td>-0.018513</td>\n",
              "      <td>0.085689</td>\n",
              "      <td>211.0</td>\n",
              "      <td>1</td>\n",
              "    </tr>\n",
              "    <tr>\n",
              "      <th>4</th>\n",
              "      <td>66.0</td>\n",
              "      <td>1.0</td>\n",
              "      <td>0.0</td>\n",
              "      <td>0.0</td>\n",
              "      <td>0.0</td>\n",
              "      <td>0.0</td>\n",
              "      <td>0.0</td>\n",
              "      <td>1.0</td>\n",
              "      <td>1.0</td>\n",
              "      <td>0.0</td>\n",
              "      <td>0.0</td>\n",
              "      <td>0.0</td>\n",
              "      <td>0.0</td>\n",
              "      <td>0.0</td>\n",
              "      <td>0.0</td>\n",
              "      <td>0.0</td>\n",
              "      <td>0.0</td>\n",
              "      <td>0.0</td>\n",
              "      <td>0.0</td>\n",
              "      <td>0.0</td>\n",
              "      <td>0.0</td>\n",
              "      <td>0.0</td>\n",
              "      <td>0.0</td>\n",
              "      <td>0.0</td>\n",
              "      <td>0.0</td>\n",
              "      <td>0.0</td>\n",
              "      <td>0.0</td>\n",
              "      <td>0.0</td>\n",
              "      <td>0.0</td>\n",
              "      <td>0.0</td>\n",
              "      <td>0.0</td>\n",
              "      <td>0.0</td>\n",
              "      <td>0.0</td>\n",
              "      <td>0.0</td>\n",
              "      <td>0.0</td>\n",
              "      <td>0.0</td>\n",
              "      <td>0.0</td>\n",
              "      <td>0.0</td>\n",
              "      <td>0.0</td>\n",
              "      <td>0.0</td>\n",
              "      <td>...</td>\n",
              "      <td>0.095470</td>\n",
              "      <td>-1.804135</td>\n",
              "      <td>-0.496847</td>\n",
              "      <td>-1.849024</td>\n",
              "      <td>-0.611730</td>\n",
              "      <td>-1.328199</td>\n",
              "      <td>-0.229339</td>\n",
              "      <td>-2.545047</td>\n",
              "      <td>-0.308216</td>\n",
              "      <td>-0.933520</td>\n",
              "      <td>0.485868</td>\n",
              "      <td>0.088308</td>\n",
              "      <td>0.079703</td>\n",
              "      <td>-0.835898</td>\n",
              "      <td>-0.083564</td>\n",
              "      <td>0.317362</td>\n",
              "      <td>0.891561</td>\n",
              "      <td>0.022763</td>\n",
              "      <td>0.105622</td>\n",
              "      <td>0.773883</td>\n",
              "      <td>-1.002407</td>\n",
              "      <td>0.501054</td>\n",
              "      <td>0.079552</td>\n",
              "      <td>-0.248789</td>\n",
              "      <td>-0.837197</td>\n",
              "      <td>-1.356546</td>\n",
              "      <td>-0.002290</td>\n",
              "      <td>-0.354671</td>\n",
              "      <td>1.474617</td>\n",
              "      <td>-0.730698</td>\n",
              "      <td>0.262911</td>\n",
              "      <td>-0.594671</td>\n",
              "      <td>0.878369</td>\n",
              "      <td>0.137746</td>\n",
              "      <td>-1.202437</td>\n",
              "      <td>0.260542</td>\n",
              "      <td>-0.026632</td>\n",
              "      <td>1.196287</td>\n",
              "      <td>691.0</td>\n",
              "      <td>1</td>\n",
              "    </tr>\n",
              "  </tbody>\n",
              "</table>\n",
              "<p>5 rows × 401 columns</p>\n",
              "</div>"
            ]
          },
          "metadata": {},
          "execution_count": 3
        }
      ],
      "metadata": {
        "colab": {
          "base_uri": "https://localhost:8080/",
          "height": 317
        },
        "id": "O2jxMrMYHeBI",
        "outputId": "61c26fe3-8ecf-4b93-a770-ff6e0097179d"
      }
    },
    {
      "cell_type": "code",
      "execution_count": 4,
      "source": [
        "y = df.iloc[:,-2:]\n",
        "y[\"Survival\"] = y[\"Survival\"].values.astype(int)\n",
        "X = df.iloc[:,:-2]\n",
        "X_train,X_test,y_train,y_test=train_test_split(X,y,test_size=0.25,random_state=0)\n",
        "print(\"shape of X Train :\"+str(X_train.shape))\n",
        "print(\"shape of X Test :\"+str(X_test.shape))\n",
        "print(\"shape of Y Train :\"+str(y_train.shape))\n",
        "print(\"shape of Y Test :\"+str(y_test.shape))"
      ],
      "outputs": [
        {
          "output_type": "stream",
          "name": "stdout",
          "text": [
            "shape of X Train :(420, 399)\n",
            "shape of X Test :(140, 399)\n",
            "shape of Y Train :(420, 2)\n",
            "shape of Y Test :(140, 2)\n"
          ]
        }
      ],
      "metadata": {
        "colab": {
          "base_uri": "https://localhost:8080/"
        },
        "id": "xZiUZbgVG4V5",
        "outputId": "29177129-70b2-473b-b4e1-cc908f3c3ded"
      }
    },
    {
      "cell_type": "markdown",
      "source": [
        "## Establish a baseline using Logistic Regression\n"
      ],
      "metadata": {
        "id": "9AnpyVgCHkQ1"
      }
    },
    {
      "cell_type": "code",
      "execution_count": null,
      "source": [
        "#logistic Regression\n",
        "\n",
        "#logistic Regression\n",
        "logreg = LogisticRegression()\n",
        "logreg.fit(X_train, y_train[\"Survival\"])\n",
        "y_pred=logreg.predict(X_test)\n",
        "#cnf_matrix = metrics.confusion_matrix(y_test[\"Survival\"], y_pred[\"Censored\"])\n",
        "\n",
        "\n",
        "#c_index = concordance_index(logreg, y_test, y_pred)\n",
        "#print('C-index: {:.2f}'.format(c_index))\n",
        "#print(\"Accuracy:\",metrics.accuracy_score(y_test, y_pred))\n",
        "#print(\"Precision:\",metrics.precision_score(y_test, y_pred))\n",
        "#print(\"Recall:\",metrics.recall_score(y_test, y_pred))\n",
        "c_val = concordance_index(y_time=y_test[\"Survival\"], y_pred=y_pred, y_event=y_test[\"Censored\"])\n",
        "print('C-index: {:.2f}'.format(c_val))\n"
      ],
      "outputs": [
        {
          "output_type": "stream",
          "name": "stderr",
          "text": [
            "/Library/Frameworks/Python.framework/Versions/3.7/lib/python3.7/site-packages/ipykernel_launcher.py:6: SettingWithCopyWarning: \n",
            "A value is trying to be set on a copy of a slice from a DataFrame.\n",
            "Try using .loc[row_indexer,col_indexer] = value instead\n",
            "\n",
            "See the caveats in the documentation: https://pandas.pydata.org/pandas-docs/stable/user_guide/indexing.html#returning-a-view-versus-a-copy\n",
            "  \n",
            "/Library/Frameworks/Python.framework/Versions/3.7/lib/python3.7/site-packages/sklearn/linear_model/_logistic.py:764: ConvergenceWarning: lbfgs failed to converge (status=1):\n",
            "STOP: TOTAL NO. of ITERATIONS REACHED LIMIT.\n",
            "\n",
            "Increase the number of iterations (max_iter) or scale the data as shown in:\n",
            "    https://scikit-learn.org/stable/modules/preprocessing.html\n",
            "Please also refer to the documentation for alternative solver options:\n",
            "    https://scikit-learn.org/stable/modules/linear_model.html#logistic-regression\n",
            "  extra_warning_msg=_LOGISTIC_SOLVER_CONVERGENCE_MSG)\n"
          ]
        },
        {
          "output_type": "stream",
          "name": "stdout",
          "text": [
            "C-index: 0.38\n"
          ]
        }
      ],
      "metadata": {
        "id": "hTEJ2v82G4V6",
        "outputId": "86a93b46-8f12-4446-cae0-bb99829c1ff1"
      }
    },
    {
      "cell_type": "markdown",
      "source": [
        "## Establish a baseline using Support Vector Machine (SVM)"
      ],
      "metadata": {
        "id": "oD3ixyq1H2Su"
      }
    },
    {
      "cell_type": "code",
      "execution_count": null,
      "source": [
        "# Uncomment if you need to install \n",
        "#!pip install pysurvival"
      ],
      "outputs": [],
      "metadata": {
        "id": "bzzVDOKPx46-"
      }
    },
    {
      "cell_type": "code",
      "execution_count": 5,
      "source": [
        "from pysurvival.models.svm import LinearSVMModel\n",
        "from pysurvival.utils.metrics import concordance_index as pysurvival_concordance_index"
      ],
      "outputs": [],
      "metadata": {
        "id": "ZFYLjPO-F2HR"
      }
    },
    {
      "cell_type": "code",
      "execution_count": 38,
      "source": [
        "svm_model = LinearSVMModel()\n",
        "svm_model.fit(X=X_train, T=y_train[\"Survival\"], E=y_train[\"Censored\"], init_method='he_normal', lr = 0.5,  \n",
        "              tol = 1e-3,  l2_reg = 1e-3, verbose = False)\n"
      ],
      "outputs": [
        {
          "output_type": "execute_result",
          "data": {
            "text/plain": [
              "LinearSVMModel"
            ]
          },
          "metadata": {
            "tags": []
          },
          "execution_count": 38
        }
      ],
      "metadata": {
        "colab": {
          "base_uri": "https://localhost:8080/"
        },
        "id": "vFyLJlmGG4UW",
        "outputId": "0d599d82-bdde-4781-927b-5841e7ab7874"
      }
    },
    {
      "cell_type": "code",
      "execution_count": 39,
      "source": [
        "c_index = pysurvival_concordance_index(svm_model, X=X_test, T=y_test[\"Survival\"], E=y_test[\"Censored\"])\n",
        "print('C-index: {:.2f}'.format(c_index))"
      ],
      "outputs": [
        {
          "output_type": "stream",
          "name": "stdout",
          "text": [
            "C-index: 0.66\n"
          ]
        }
      ],
      "metadata": {
        "colab": {
          "base_uri": "https://localhost:8080/"
        },
        "id": "BU3shnH7G4sd",
        "outputId": "415b9af7-6c15-42b1-e7de-de50f905b65c"
      }
    },
    {
      "cell_type": "markdown",
      "source": [
        "## Establish a baseline using Random Survival Forest (RSF)"
      ],
      "metadata": {
        "id": "8D0LjDWJCA4i"
      }
    },
    {
      "cell_type": "code",
      "execution_count": 10,
      "source": [
        "from pysurvival.models.survival_forest import RandomSurvivalForestModel\n",
        "\n",
        "rsf = RandomSurvivalForestModel(num_trees=20)\n",
        "rsf.fit(X_train, y_train[\"Survival\"], y_train[\"Censored\"])\n",
        "print(f'c-index of baseline RSF model: {pysurvival_concordance_index(rsf, X_test, y_test[\"Survival\"], y_test[\"Censored\"])}')"
      ],
      "outputs": [
        {
          "output_type": "stream",
          "name": "stdout",
          "text": [
            "c-index of baseline RSF model: 0.7867007742861026\n"
          ]
        }
      ],
      "metadata": {
        "id": "AOQyuf9oCA4i"
      }
    },
    {
      "cell_type": "markdown",
      "source": [
        "## Neural Network SurvivalNet Reimplementation"
      ],
      "metadata": {
        "id": "k2PTFqT9RPoL"
      }
    },
    {
      "cell_type": "code",
      "execution_count": 15,
      "source": [
        "# Uncomment if you need to install \n",
        "#!pip install keras_tuner"
      ],
      "outputs": [],
      "metadata": {
        "id": "dtczqfs8yK0p"
      }
    },
    {
      "cell_type": "code",
      "execution_count": 12,
      "source": [
        "import tensorflow as tf\n",
        "from tensorflow import keras\n",
        "from tensorflow.keras import layers\n",
        "from tensorflow.keras.models import Sequential\n",
        "from tensorflow.keras.layers import Dense, Activation, Dropout\n",
        "import keras_tuner as kt\n",
        "\n",
        "tf.random.set_seed(1337)"
      ],
      "outputs": [
        {
          "output_type": "stream",
          "name": "stderr",
          "text": [
            "2021-08-12 13:43:35.473881: W tensorflow/stream_executor/platform/default/dso_loader.cc:64] Could not load dynamic library 'libcudart.so.11.0'; dlerror: libcudart.so.11.0: cannot open shared object file: No such file or directory\n",
            "2021-08-12 13:43:35.474091: I tensorflow/stream_executor/cuda/cudart_stub.cc:29] Ignore above cudart dlerror if you do not have a GPU set up on your machine.\n"
          ]
        }
      ],
      "metadata": {
        "id": "df9UpKJPRZ9m"
      }
    },
    {
      "cell_type": "code",
      "execution_count": 13,
      "source": [
        "class partial_log_likelihood(keras.losses.Loss):\n",
        "    def __init__(self, name=\"partial_log_likelihood\"):\n",
        "        super().__init__(name=name)\n",
        "    def call(self, y_true, y_pred):\n",
        "        censored = y_true[:,1]\n",
        "        y_true = y_true[:,0]\n",
        "        y_pred = tf.reshape(y_pred, [-1])\n",
        "        sorted_survival, sorted_indices = tf.math.top_k(y_true, len(y_true), True) \n",
        "        sorted_censored = keras.backend.gather(censored, sorted_indices)\n",
        "        sorted_preds = keras.backend.gather(y_pred, sorted_indices)\n",
        "        exp = keras.backend.exp(sorted_preds)\n",
        "        sums = keras.backend.cumsum(exp) + tf.convert_to_tensor(1.0)\n",
        "        logsums = keras.backend.log(sums)\n",
        "        \n",
        "        return keras.backend.sum(sorted_censored * sorted_preds - sorted_censored*logsums) * -1"
      ],
      "outputs": [],
      "metadata": {
        "id": "OMhCN5puwR2g"
      }
    },
    {
      "cell_type": "code",
      "execution_count": 14,
      "source": [
        "# Model outline with hyperparameter ranges/choices to be searched by BayesOpt tuner\n",
        "def build_model(hp):\n",
        "    model = Sequential()\n",
        "    model.add(Dense(hp.Int(\"units1\", min_value=32, max_value=512, step=32), activation='relu', input_dim=len(X_train.columns)))\n",
        "    model.add(Dropout(hp.Float(\"drop_rate\", min_value=0.0, max_value=0.2, step=0.1)))\n",
        "    model.add(Dense(hp.Int(\"units2\", min_value=32, max_value=512, step=32), activation='relu'))\n",
        "    model.add(Dropout(hp.Float(\"drop_rate\", min_value=0.0, max_value=0.2, step=0.1)))\n",
        "    model.add(Dense(hp.Int(\"units3\", min_value=32, max_value=512, step=32), activation='relu'))\n",
        "    model.add(Dense(1))\n",
        "    model.compile(optimizer=keras.optimizers.Adam(hp.Choice(\"learning_rate\", values=[1e-2, 1e-3, 1e-4])),loss=partial_log_likelihood(), run_eagerly=True)\n",
        "    return model"
      ],
      "outputs": [],
      "metadata": {
        "id": "4099AavNwR2h"
      }
    },
    {
      "cell_type": "code",
      "execution_count": 15,
      "source": [
        "# Run Bayesian Optimization on the NN survival model to find best hyperparameters\n",
        "tuner = kt.BayesianOptimization(build_model, objective=\"loss\", max_trials=20, executions_per_trial=1, directory=\"./bayes_opt\", project_name=\"logs\")\n",
        "y_train.loc[:,\"Censored\"] = np.array(y_train.loc[:,\"Censored\"].values).astype(np.float32)\n",
        "tuner.search(X_train, y_train.values, batch_size=32, epochs=50)"
      ],
      "outputs": [
        {
          "output_type": "stream",
          "name": "stdout",
          "text": [
            "INFO:tensorflow:Reloading Oracle from existing project ./bayes_opt/logs/oracle.json\n"
          ]
        },
        {
          "output_type": "stream",
          "name": "stderr",
          "text": [
            "2021-08-12 13:44:47.770181: W tensorflow/stream_executor/platform/default/dso_loader.cc:64] Could not load dynamic library 'libcuda.so.1'; dlerror: libcuda.so.1: cannot open shared object file: No such file or directory\n",
            "2021-08-12 13:44:47.770431: W tensorflow/stream_executor/cuda/cuda_driver.cc:326] failed call to cuInit: UNKNOWN ERROR (303)\n",
            "2021-08-12 13:44:47.770557: I tensorflow/stream_executor/cuda/cuda_diagnostics.cc:156] kernel driver does not appear to be running on this host (DESKTOP-KHDBI9N): /proc/driver/nvidia/version does not exist\n",
            "2021-08-12 13:44:47.794600: I tensorflow/core/platform/cpu_feature_guard.cc:142] This TensorFlow binary is optimized with oneAPI Deep Neural Network Library (oneDNN) to use the following CPU instructions in performance-critical operations:  AVX2 FMA\n",
            "To enable them in other operations, rebuild TensorFlow with the appropriate compiler flags.\n"
          ]
        },
        {
          "output_type": "stream",
          "name": "stdout",
          "text": [
            "INFO:tensorflow:Reloading Tuner from ./bayes_opt/logs/tuner0.json\n",
            "INFO:tensorflow:Oracle triggered exit\n"
          ]
        },
        {
          "output_type": "stream",
          "name": "stderr",
          "text": [
            "/home/jjcc/.cache/pypoetry/virtualenvs/survivalnet-reimplementation-nhtVa1r6-py3.8/lib/python3.8/site-packages/pandas/core/indexing.py:1773: SettingWithCopyWarning: \n",
            "A value is trying to be set on a copy of a slice from a DataFrame.\n",
            "Try using .loc[row_indexer,col_indexer] = value instead\n",
            "\n",
            "See the caveats in the documentation: https://pandas.pydata.org/pandas-docs/stable/user_guide/indexing.html#returning-a-view-versus-a-copy\n",
            "  self._setitem_single_column(ilocs[0], value, pi)\n"
          ]
        }
      ],
      "metadata": {
        "id": "gsgJ352cwR2j",
        "outputId": "14cec221-491a-4f9e-bf0f-b4f28d5c093b"
      }
    },
    {
      "cell_type": "code",
      "execution_count": 16,
      "source": [
        "# Rebuild model with best hyperparameters selected by bayesian optimization\n",
        "best_hp = tuner.get_best_hyperparameters()[0]\n",
        "model = tuner.hypermodel.build(best_hp)"
      ],
      "outputs": [],
      "metadata": {
        "id": "0B9FcH8swR2k"
      }
    },
    {
      "cell_type": "code",
      "execution_count": 17,
      "source": [
        "# Retrain best model\n",
        "model.fit(X_train, y_train.values,batch_size=32, epochs=50, verbose=False)"
      ],
      "outputs": [
        {
          "output_type": "stream",
          "name": "stderr",
          "text": [
            "2021-08-12 13:45:00.816819: I tensorflow/compiler/mlir/mlir_graph_optimization_pass.cc:176] None of the MLIR Optimization Passes are enabled (registered 2)\n",
            "2021-08-12 13:45:00.829701: I tensorflow/core/platform/profile_utils/cpu_utils.cc:114] CPU Frequency: 2399995000 Hz\n"
          ]
        },
        {
          "output_type": "execute_result",
          "data": {
            "text/plain": [
              "<tensorflow.python.keras.callbacks.History at 0x7f9f3a76ee20>"
            ]
          },
          "metadata": {},
          "execution_count": 17
        }
      ],
      "metadata": {
        "id": "3ttND8JpwR2l",
        "outputId": "b326c6f1-9b9b-41c5-d11c-50e1f7ac9218"
      }
    },
    {
      "cell_type": "code",
      "execution_count": 18,
      "source": [
        "print(f'c-index: {concordance_index(y_time=y_test[\"Survival\"], y_pred=model.predict(X_test), y_event=y_test[\"Censored\"])}')"
      ],
      "outputs": [
        {
          "output_type": "stream",
          "name": "stdout",
          "text": [
            "c-index: 0.8597711811997526\n"
          ]
        }
      ],
      "metadata": {
        "id": "LWYj_cmwwR2m",
        "outputId": "aa3370fa-a13d-473e-eaa3-64082a076978"
      }
    }
  ]
}