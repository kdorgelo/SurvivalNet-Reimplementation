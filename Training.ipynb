{
  "nbformat": 4,
  "nbformat_minor": 2,
  "metadata": {
    "kernelspec": {
      "name": "python3",
      "display_name": "Python 3.8.5 64-bit ('survivalnet-reimplementation-nhtVa1r6-py3.8': poetry)"
    },
    "language_info": {
      "codemirror_mode": {
        "name": "ipython",
        "version": 3
      },
      "file_extension": ".py",
      "mimetype": "text/x-python",
      "name": "python",
      "nbconvert_exporter": "python",
      "pygments_lexer": "ipython3",
      "version": "3.8.5"
    },
    "colab": {
      "name": "Training.ipynb",
      "provenance": []
    },
    "interpreter": {
      "hash": "23ef4ed9cc7a31b96e3c893bef735bf01838de5c478fa951d1ade0827009e44d"
    }
  },
  "cells": [
    {
      "cell_type": "markdown",
      "source": [
        "## Setup"
      ],
      "metadata": {
        "id": "fvc3ukH5HtuM"
      }
    },
    {
      "cell_type": "code",
      "execution_count": 1,
      "source": [
        "import pandas as pd\n",
        "import numpy as np\n",
        "import scipy.io as sio\n",
        "from sklearn.model_selection import train_test_split\n",
        "from sklearn.linear_model import LogisticRegression\n",
        "from sklearn import metrics\n",
        "from sklearn.datasets import make_classification\n",
        "from sklearn.model_selection import cross_val_score\n",
        "from sklearn.svm import SVC\n",
        "from sklearn.datasets import make_classification\n",
        "from sklearn.preprocessing import MinMaxScaler\n",
        "from sklearn.model_selection import GridSearchCV\n",
        "import matplotlib.pyplot as plt"
      ],
      "outputs": [],
      "metadata": {
        "id": "XVjpPUojG4V4"
      }
    },
    {
      "cell_type": "code",
      "execution_count": 2,
      "source": [
        "D = sio.loadmat('data.mat')\n",
        "#dict_keys(['__header__', '__version__', '__globals__', 'Censored', 'Integ_Symb_Types', 'Integ_Symbs', 'Integ_X', 'Integ_X_raw', 'Patients', 'Subtypes', 'Survival'])\n",
        "\n",
        "T = np.asarray([t[0] for t in D['Survival']]).astype('float32')\n",
        "O = 1 - np.asarray([c[0] for c in D['Censored']]).astype('int32')\n",
        "X = D['Integ_X_raw'].astype('float32') # not sure if this should be 'Integ_X_raw' or 'Integ_X'\n",
        "X_headers = list(D['Integ_Symbs'])\n",
        "\n",
        "df = pd.DataFrame(data=X, columns=X_headers)\n",
        "#df = pd.DataFrame(data=X)\n",
        "df['Survival'] = T\n",
        "df['Censored'] = O\n",
        "print(df.shape)\n",
        "df.head()"
      ],
      "outputs": [
        {
          "output_type": "stream",
          "name": "stdout",
          "text": [
            "(560, 401)\n"
          ]
        },
        {
          "output_type": "execute_result",
          "data": {
            "text/plain": [
              "   age_at_initial_pathologic_diagnosis_Clinical                   \\\n",
              "0                                               50.0               \n",
              "1                                               57.0               \n",
              "2                                               53.0               \n",
              "3                                               86.0               \n",
              "4                                               66.0               \n",
              "\n",
              "   gender-Is-male_Clinical                                        \\\n",
              "0                                                1.0               \n",
              "1                                                1.0               \n",
              "2                                                1.0               \n",
              "3                                                1.0               \n",
              "4                                                1.0               \n",
              "\n",
              "   histological_type-Is-oligoastrocytoma_Clinical                 \\\n",
              "0                                                0.0               \n",
              "1                                                0.0               \n",
              "2                                                0.0               \n",
              "3                                                0.0               \n",
              "4                                                0.0               \n",
              "\n",
              "   histological_type-Is-astrocytoma_Clinical                      \\\n",
              "0                                                0.0               \n",
              "1                                                0.0               \n",
              "2                                                0.0               \n",
              "3                                                0.0               \n",
              "4                                                0.0               \n",
              "\n",
              "   histological_type-Is-oligodendroglioma_Clinical                \\\n",
              "0                                                0.0               \n",
              "1                                                0.0               \n",
              "2                                                0.0               \n",
              "3                                                0.0               \n",
              "4                                                0.0               \n",
              "\n",
              "   histological_type-Is-glioblastoma multiforme (gbm)_Clinical    \\\n",
              "0                                                0.0               \n",
              "1                                                0.0               \n",
              "2                                                0.0               \n",
              "3                                                0.0               \n",
              "4                                                0.0               \n",
              "\n",
              "   histological_type-Is-treated primary gbm_Clinical              \\\n",
              "0                                                0.0               \n",
              "1                                                1.0               \n",
              "2                                                0.0               \n",
              "3                                                0.0               \n",
              "4                                                0.0               \n",
              "\n",
              "   histological_type-Is-untreated primary (de novo) gbm_Clinical  \\\n",
              "0                                                1.0               \n",
              "1                                                0.0               \n",
              "2                                                1.0               \n",
              "3                                                1.0               \n",
              "4                                                1.0               \n",
              "\n",
              "   radiation_therapy-Is-yes_Clinical                              \\\n",
              "0                                                1.0               \n",
              "1                                                1.0               \n",
              "2                                                1.0               \n",
              "3                                                1.0               \n",
              "4                                                1.0               \n",
              "\n",
              "   ACADS_Mut                                                      ...  \\\n",
              "0                                                0.0              ...   \n",
              "1                                                0.0              ...   \n",
              "2                                                0.0              ...   \n",
              "3                                                0.0              ...   \n",
              "4                                                0.0              ...   \n",
              "\n",
              "   CDKN1B_Protein                                                 \\\n",
              "0                                           0.161241               \n",
              "1                                           0.740407               \n",
              "2                                           0.049271               \n",
              "3                                          -0.126167               \n",
              "4                                           0.262911               \n",
              "\n",
              "   MAPK14_Protein                                                 \\\n",
              "0                                          -0.097997               \n",
              "1                                          -0.118854               \n",
              "2                                          -0.204173               \n",
              "3                                          -0.064162               \n",
              "4                                          -0.594671               \n",
              "\n",
              "   TP53_Protein                                                   \\\n",
              "0                                           0.108144               \n",
              "1                                           0.269457               \n",
              "2                                           0.426592               \n",
              "3                                          -0.223155               \n",
              "4                                           0.878369               \n",
              "\n",
              "   SQSTM1_Protein                                                 \\\n",
              "0                                           0.661336               \n",
              "1                                           0.116623               \n",
              "2                                          -0.379803               \n",
              "3                                          -0.188487               \n",
              "4                                           0.137746               \n",
              "\n",
              "   RPS6KB1_Protein                                                \\\n",
              "0                                          -0.111310               \n",
              "1                                          -0.573753               \n",
              "2                                          -0.158300               \n",
              "3                                           0.292586               \n",
              "4                                          -1.202437               \n",
              "\n",
              "   RPS6KB1_Protein                                                \\\n",
              "0                                           0.474086               \n",
              "1                                          -0.587442               \n",
              "2                                           0.100670               \n",
              "3                                          -0.044545               \n",
              "4                                           0.260542               \n",
              "\n",
              "   RPS6KA1_Protein                                                \\\n",
              "0                                           0.377963               \n",
              "1                                          -0.523980               \n",
              "2                                          -0.481545               \n",
              "3                                          -0.018513               \n",
              "4                                          -0.026632               \n",
              "\n",
              "   RPS6KA1_Protein                                                Survival  \\\n",
              "0                                           0.057217                 144.0   \n",
              "1                                           0.000000                 393.0   \n",
              "2                                           0.098332                 470.0   \n",
              "3                                           0.085689                 211.0   \n",
              "4                                           1.196287                 691.0   \n",
              "\n",
              "   Censored  \n",
              "0         1  \n",
              "1         1  \n",
              "2         0  \n",
              "3         1  \n",
              "4         1  \n",
              "\n",
              "[5 rows x 401 columns]"
            ],
            "text/html": [
              "<div>\n",
              "<style scoped>\n",
              "    .dataframe tbody tr th:only-of-type {\n",
              "        vertical-align: middle;\n",
              "    }\n",
              "\n",
              "    .dataframe tbody tr th {\n",
              "        vertical-align: top;\n",
              "    }\n",
              "\n",
              "    .dataframe thead th {\n",
              "        text-align: right;\n",
              "    }\n",
              "</style>\n",
              "<table border=\"1\" class=\"dataframe\">\n",
              "  <thead>\n",
              "    <tr style=\"text-align: right;\">\n",
              "      <th></th>\n",
              "      <th>age_at_initial_pathologic_diagnosis_Clinical</th>\n",
              "      <th>gender-Is-male_Clinical</th>\n",
              "      <th>histological_type-Is-oligoastrocytoma_Clinical</th>\n",
              "      <th>histological_type-Is-astrocytoma_Clinical</th>\n",
              "      <th>histological_type-Is-oligodendroglioma_Clinical</th>\n",
              "      <th>histological_type-Is-glioblastoma multiforme (gbm)_Clinical</th>\n",
              "      <th>histological_type-Is-treated primary gbm_Clinical</th>\n",
              "      <th>histological_type-Is-untreated primary (de novo) gbm_Clinical</th>\n",
              "      <th>radiation_therapy-Is-yes_Clinical</th>\n",
              "      <th>ACADS_Mut</th>\n",
              "      <th>...</th>\n",
              "      <th>CDKN1B_Protein</th>\n",
              "      <th>MAPK14_Protein</th>\n",
              "      <th>TP53_Protein</th>\n",
              "      <th>SQSTM1_Protein</th>\n",
              "      <th>RPS6KB1_Protein</th>\n",
              "      <th>RPS6KB1_Protein</th>\n",
              "      <th>RPS6KA1_Protein</th>\n",
              "      <th>RPS6KA1_Protein</th>\n",
              "      <th>Survival</th>\n",
              "      <th>Censored</th>\n",
              "    </tr>\n",
              "  </thead>\n",
              "  <tbody>\n",
              "    <tr>\n",
              "      <th>0</th>\n",
              "      <td>50.0</td>\n",
              "      <td>1.0</td>\n",
              "      <td>0.0</td>\n",
              "      <td>0.0</td>\n",
              "      <td>0.0</td>\n",
              "      <td>0.0</td>\n",
              "      <td>0.0</td>\n",
              "      <td>1.0</td>\n",
              "      <td>1.0</td>\n",
              "      <td>0.0</td>\n",
              "      <td>...</td>\n",
              "      <td>0.161241</td>\n",
              "      <td>-0.097997</td>\n",
              "      <td>0.108144</td>\n",
              "      <td>0.661336</td>\n",
              "      <td>-0.111310</td>\n",
              "      <td>0.474086</td>\n",
              "      <td>0.377963</td>\n",
              "      <td>0.057217</td>\n",
              "      <td>144.0</td>\n",
              "      <td>1</td>\n",
              "    </tr>\n",
              "    <tr>\n",
              "      <th>1</th>\n",
              "      <td>57.0</td>\n",
              "      <td>1.0</td>\n",
              "      <td>0.0</td>\n",
              "      <td>0.0</td>\n",
              "      <td>0.0</td>\n",
              "      <td>0.0</td>\n",
              "      <td>1.0</td>\n",
              "      <td>0.0</td>\n",
              "      <td>1.0</td>\n",
              "      <td>0.0</td>\n",
              "      <td>...</td>\n",
              "      <td>0.740407</td>\n",
              "      <td>-0.118854</td>\n",
              "      <td>0.269457</td>\n",
              "      <td>0.116623</td>\n",
              "      <td>-0.573753</td>\n",
              "      <td>-0.587442</td>\n",
              "      <td>-0.523980</td>\n",
              "      <td>0.000000</td>\n",
              "      <td>393.0</td>\n",
              "      <td>1</td>\n",
              "    </tr>\n",
              "    <tr>\n",
              "      <th>2</th>\n",
              "      <td>53.0</td>\n",
              "      <td>1.0</td>\n",
              "      <td>0.0</td>\n",
              "      <td>0.0</td>\n",
              "      <td>0.0</td>\n",
              "      <td>0.0</td>\n",
              "      <td>0.0</td>\n",
              "      <td>1.0</td>\n",
              "      <td>1.0</td>\n",
              "      <td>0.0</td>\n",
              "      <td>...</td>\n",
              "      <td>0.049271</td>\n",
              "      <td>-0.204173</td>\n",
              "      <td>0.426592</td>\n",
              "      <td>-0.379803</td>\n",
              "      <td>-0.158300</td>\n",
              "      <td>0.100670</td>\n",
              "      <td>-0.481545</td>\n",
              "      <td>0.098332</td>\n",
              "      <td>470.0</td>\n",
              "      <td>0</td>\n",
              "    </tr>\n",
              "    <tr>\n",
              "      <th>3</th>\n",
              "      <td>86.0</td>\n",
              "      <td>1.0</td>\n",
              "      <td>0.0</td>\n",
              "      <td>0.0</td>\n",
              "      <td>0.0</td>\n",
              "      <td>0.0</td>\n",
              "      <td>0.0</td>\n",
              "      <td>1.0</td>\n",
              "      <td>1.0</td>\n",
              "      <td>0.0</td>\n",
              "      <td>...</td>\n",
              "      <td>-0.126167</td>\n",
              "      <td>-0.064162</td>\n",
              "      <td>-0.223155</td>\n",
              "      <td>-0.188487</td>\n",
              "      <td>0.292586</td>\n",
              "      <td>-0.044545</td>\n",
              "      <td>-0.018513</td>\n",
              "      <td>0.085689</td>\n",
              "      <td>211.0</td>\n",
              "      <td>1</td>\n",
              "    </tr>\n",
              "    <tr>\n",
              "      <th>4</th>\n",
              "      <td>66.0</td>\n",
              "      <td>1.0</td>\n",
              "      <td>0.0</td>\n",
              "      <td>0.0</td>\n",
              "      <td>0.0</td>\n",
              "      <td>0.0</td>\n",
              "      <td>0.0</td>\n",
              "      <td>1.0</td>\n",
              "      <td>1.0</td>\n",
              "      <td>0.0</td>\n",
              "      <td>...</td>\n",
              "      <td>0.262911</td>\n",
              "      <td>-0.594671</td>\n",
              "      <td>0.878369</td>\n",
              "      <td>0.137746</td>\n",
              "      <td>-1.202437</td>\n",
              "      <td>0.260542</td>\n",
              "      <td>-0.026632</td>\n",
              "      <td>1.196287</td>\n",
              "      <td>691.0</td>\n",
              "      <td>1</td>\n",
              "    </tr>\n",
              "  </tbody>\n",
              "</table>\n",
              "<p>5 rows × 401 columns</p>\n",
              "</div>"
            ]
          },
          "metadata": {},
          "execution_count": 2
        }
      ],
      "metadata": {
        "id": "O2jxMrMYHeBI",
        "outputId": "3e5496ec-df89-48f3-e7ba-2680f6ddbdb7",
        "colab": {
          "base_uri": "https://localhost:8080/",
          "height": 322
        }
      }
    },
    {
      "cell_type": "code",
      "execution_count": 6,
      "source": [
        "X = df.iloc[:,:-1] # Features\n",
        "y = df['Censored'] # Not sure if y should be censored or survival?\n",
        "#y=y.reshape(-1, 1)\n",
        "\n",
        "X_train,X_test,y_train,y_test=train_test_split(X,y,test_size=0.25,random_state=0)\n",
        "print(\"shape of X Train :\"+str(X_train.shape))\n",
        "print(\"shape of X Test :\"+str(X_test.shape))\n",
        "print(\"shape of Y Train :\"+str(y_train.shape))\n",
        "print(\"shape of Y Test :\"+str(y_test.shape))"
      ],
      "outputs": [
        {
          "output_type": "stream",
          "name": "stdout",
          "text": [
            "shape of X Train :(420, 400)\n",
            "shape of X Test :(140, 400)\n",
            "shape of Y Train :(420,)\n",
            "shape of Y Test :(140,)\n"
          ]
        }
      ],
      "metadata": {
        "id": "xZiUZbgVG4V5",
        "outputId": "cd191648-e304-4397-eecd-752d8c2d6b04",
        "colab": {
          "base_uri": "https://localhost:8080/"
        }
      }
    },
    {
      "cell_type": "markdown",
      "source": [
        "## Establish a baseline using Logistic Regression\n"
      ],
      "metadata": {
        "id": "9AnpyVgCHkQ1"
      }
    },
    {
      "cell_type": "code",
      "execution_count": null,
      "source": [
        "#logistic Regression\n",
        "logreg = LogisticRegression()\n",
        "logreg.fit(X_train,y_train)\n",
        "y_pred=logreg.predict(X_test)\n",
        "cnf_matrix = metrics.confusion_matrix(y_test, y_pred)\n",
        "print(\"Accuracy:\",metrics.accuracy_score(y_test, y_pred))\n",
        "print(\"Precision:\",metrics.precision_score(y_test, y_pred))\n",
        "print(\"Recall:\",metrics.recall_score(y_test, y_pred))"
      ],
      "outputs": [],
      "metadata": {
        "id": "hTEJ2v82G4V6"
      }
    },
    {
      "cell_type": "code",
      "execution_count": null,
      "source": [
        "#I pulled this example of basian optimization code from the internet. Dont know how it works yet\n",
        "#https://thuijskens.github.io/2016/12/29/bayesian-optimisation/\n",
        "\n",
        "def bayesian_optimization(n_iters, sample_loss, xp, yp):\n",
        "    kernel = gp.kernels.Matern()\n",
        "    model = gp.GaussianProcessRegressor(kernel=kernel,alpha=1e-4, n_restarts_optimizer=10, normalize_y=True)\n",
        "    for i in range(n_iters):\n",
        "        model.fit(xp, yp)\n",
        "        next_sample = sample_next_hyperparameter(model, yp)\n",
        "        next_loss = sample_loss(next_sample)\n",
        "\n",
        "data, target = make_classification(n_samples=2500,\n",
        "                                   n_features=45,\n",
        "                                   n_informative=15,\n",
        "                                   n_redundant=5)\n",
        "def sample_loss(params):\n",
        "    C = params[0]\n",
        "    gamma = params[1]\n",
        "    model = SVC(C=10 ** C, gamma=10 ** gamma, random_state=12345)\n",
        "    return cross_val_score(model=model, X=data, y=target, scoring='roc_auc', cv=3).mean()"
      ],
      "outputs": [],
      "metadata": {
        "id": "0xYmk2QkG4V7"
      }
    },
    {
      "cell_type": "markdown",
      "source": [
        "## Establish a baseline using SVM"
      ],
      "metadata": {
        "id": "oD3ixyq1H2Su"
      }
    },
    {
      "cell_type": "code",
      "execution_count": 8,
      "source": [
        "# Not done this yet! Not sure which kernel to use\n",
        "# Grid search method to find params\n",
        "param_grid = {'C': [1,5,7,10,15,25,50],\n",
        "              'gamma': [.1,.5,.10,.25,.50,1]}\n",
        "GS = GridSearchCV(SVC(kernel='rbf'),param_grid,cv=5)"
      ],
      "outputs": [],
      "metadata": {
        "id": "Tg0vgZYBH3fG"
      }
    },
    {
      "cell_type": "code",
      "execution_count": 13,
      "source": [
        "GS.fit(X_train,y_train)"
      ],
      "outputs": [
        {
          "output_type": "execute_result",
          "data": {
            "text/plain": [
              "GridSearchCV(cv=5, error_score=nan,\n",
              "             estimator=SVC(C=1.0, break_ties=False, cache_size=200,\n",
              "                           class_weight=None, coef0=0.0,\n",
              "                           decision_function_shape='ovr', degree=3,\n",
              "                           gamma='scale', kernel='rbf', max_iter=-1,\n",
              "                           probability=False, random_state=None, shrinking=True,\n",
              "                           tol=0.001, verbose=False),\n",
              "             iid='deprecated', n_jobs=None,\n",
              "             param_grid={'C': [1, 5, 7, 10, 15, 25, 50],\n",
              "                         'gamma': [0.1, 0.5, 0.1, 0.25, 0.5, 1]},\n",
              "             pre_dispatch='2*n_jobs', refit=True, return_train_score=False,\n",
              "             scoring=None, verbose=0)"
            ]
          },
          "metadata": {
            "tags": []
          },
          "execution_count": 13
        }
      ],
      "metadata": {
        "id": "5NuiitmCIGSC",
        "outputId": "3688b7c8-b203-4786-c102-44629d8fc662",
        "colab": {
          "base_uri": "https://localhost:8080/"
        }
      }
    },
    {
      "cell_type": "code",
      "execution_count": 14,
      "source": [
        "print(\"the parameters {} are the best.\".format(GS.best_params_))\n",
        "print(\"the best score is {:.2f}.\".format(GS.best_score_))"
      ],
      "outputs": [
        {
          "output_type": "stream",
          "name": "stdout",
          "text": [
            "the parameters {'C': 1, 'gamma': 0.1} are the best.\n",
            "the best score is 0.63.\n"
          ]
        }
      ],
      "metadata": {
        "id": "JwFaQrLvIIKG",
        "outputId": "27aa1e5b-5cf2-4c4f-e845-8e3ba057aa74",
        "colab": {
          "base_uri": "https://localhost:8080/"
        }
      }
    },
    {
      "cell_type": "markdown",
      "source": [
        "## Establish a baseline using Random Survival Forest (RSF)"
      ],
      "metadata": {}
    },
    {
      "cell_type": "code",
      "execution_count": null,
      "source": [
        "from random_survival_forest import RandomSurvivalForest, concordance_index\n",
        "\n",
        "y = df[[\"Survival\", \"Censored\"]]\n",
        "y[\"Survival\"] = y[\"Survival\"].values.astype(int)\n",
        "X = df.drop(columns=[\"Survival\", \"Censored\"])\n",
        "X_train,X_test,y_train,y_test=train_test_split(X,y,test_size=0.25,random_state=0)\n",
        "\n",
        "rsf = RandomSurvivalForest(n_estimators=10)\n",
        "rsf = rsf.fit(X_train, y_train)\n",
        "y_pred = rsf.predict(X_test)\n",
        "c_val = concordance_index(y_time=y_test[\"Survival\"], y_pred=y_pred, y_event=y_test[\"Censored\"])"
      ],
      "outputs": [],
      "metadata": {}
    },
    {
      "cell_type": "code",
      "execution_count": 8,
      "source": [
        "print(\"C-index\", round(c_val, 3))"
      ],
      "outputs": [
        {
          "output_type": "stream",
          "name": "stdout",
          "text": [
            "C-index 0.869\n"
          ]
        }
      ],
      "metadata": {}
    }
  ]
}